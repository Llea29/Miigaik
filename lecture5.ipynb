{
 "cells": [
  {
   "cell_type": "markdown",
   "id": "107c81e9-95ec-4f71-988e-5b3010def6e5",
   "metadata": {},
   "source": [
    "Задание 1"
   ]
  },
  {
   "cell_type": "code",
   "execution_count": null,
   "id": "87fb11f3-fb86-477b-b3a4-e5120cf074a6",
   "metadata": {},
   "outputs": [],
   "source": [
    "!pip install pandas"
   ]
  },
  {
   "cell_type": "code",
   "execution_count": null,
   "id": "cd380e9c-899c-4df6-b0d2-03bc4d3f6b8a",
   "metadata": {},
   "outputs": [],
   "source": [
    "import pandas as pd\n",
    "df = pd.read_csv('71.csv', encoding='UTF-8')\n",
    "print (df)"
   ]
  },
  {
   "cell_type": "code",
   "execution_count": null,
   "id": "3aa638a0-e6f9-4c7c-bbaf-93f81556ee46",
   "metadata": {},
   "outputs": [],
   "source": [
    "    # Рассчитываем доход по каждому ряду (цена * количество)\n",
    "    df['profit'] = df['Price'] * df['Lot']\n",
    "\n",
    "    # Группируем по продукту и суммируем доход\n",
    "    total_revenue = df.groupby('ID')['profit'].sum()\n",
    "\n",
    "    # Печать общего дохода по каждому продукту\n",
    "    print(\"Общий доход по каждому продукту:\")\n",
    "    print(total_revenue)\n",
    "\n",
    "    # Если нужно, сохраняем результат в новый CSV-файл\n",
    "    total_revenue.to_csv(\"total_revenue_by_product.csv\", header=['Доход'])"
   ]
  },
  {
   "cell_type": "markdown",
   "id": "74c9d176-f293-48f3-af28-265f77190bb0",
   "metadata": {},
   "source": [
    "Задание 2"
   ]
  },
  {
   "cell_type": "code",
   "execution_count": null,
   "id": "7c7e714e-bb39-40d3-836e-8a127b9f3e88",
   "metadata": {},
   "outputs": [],
   "source": [
    "import csv\n",
    "import json\n",
    "\n",
    "# Укажите пути к файлам\n",
    "csv_file = \"71.csv\"  # Исходный CSV-файл\n",
    "json_file = \"72.json\"  # Файл, куда будет сохранён JSON\n",
    "\n",
    "# Чтение данных из CSV\n",
    "with open(csv_file, mode='r', encoding='utf-8') as file:\n",
    "    csv_reader = csv.DictReader(file)  # Используем DictReader для создания словарей из строк CSV\n",
    "    data = [row for row in csv_reader]  # Преобразуем строки CSV в список словарей\n",
    "\n",
    "# Сохранение данных в JSON\n",
    "with open(json_file, mode='w', encoding='utf-8') as file:\n",
    "    json.dump(data, file, ensure_ascii=False, indent=4)  # Сохраняем с красивым форматированием"
   ]
  },
  {
   "cell_type": "markdown",
   "id": "d95d2dbd-8d43-48ee-842e-ce2c613e0a45",
   "metadata": {},
   "source": [
    "Задание 3"
   ]
  },
  {
   "cell_type": "code",
   "execution_count": null,
   "id": "1e5d0d76-4219-4f38-b05e-e4ee4470de24",
   "metadata": {},
   "outputs": [],
   "source": [
    "!pip install requests"
   ]
  },
  {
   "cell_type": "code",
   "execution_count": null,
   "id": "179a8b3b-a46c-4f2a-bb6f-9faba9038641",
   "metadata": {},
   "outputs": [],
   "source": [
    "import requests\n",
    "\n",
    "# URL API для получения списка постов\n",
    "url = \"https://jsonplaceholder.typicode.com/posts\"  # Пример API для постов\n",
    "\n",
    "try:\n",
    "    # Отправляем GET-запрос\n",
    "    response = requests.get(url)\n",
    "    response.raise_for_status()  # Проверяем на наличие ошибок HTTP\n",
    "\n",
    "    # Преобразуем ответ в JSON\n",
    "    posts = response.json()\n",
    "\n",
    "    # Выводим посты\n",
    "    for post in posts[:5]:  # Ограничиваем вывод до 5 постов для примера\n",
    "        print(f\"Post ID: {post['id']}\")\n",
    "        print(f\"Title: {post['title']}\")\n",
    "        print(f\"Body: {post['body']}\\n\")\n",
    "\n",
    "except requests.exceptions.RequestException as e:\n",
    "    print(f\"An error occurred: {e}\")\n"
   ]
  },
  {
   "cell_type": "markdown",
   "id": "2c2c882a-c7cd-4539-9fd2-125bb5781680",
   "metadata": {},
   "source": [
    "Задание 4"
   ]
  },
  {
   "cell_type": "code",
   "execution_count": null,
   "id": "1e4576c1-3a10-4179-acc2-13748d2f179e",
   "metadata": {},
   "outputs": [],
   "source": [
    "import requests\n",
    "\n",
    "# Базовые URL\n",
    "posts_url = \"https://jsonplaceholder.typicode.com/posts\"\n",
    "comments_url = \"https://jsonplaceholder.typicode.com/comments\"\n",
    "\n",
    "try:\n",
    "    # 1. Получение всех постов\n",
    "    posts_response = requests.get(posts_url)\n",
    "    posts_response.raise_for_status()\n",
    "    posts = posts_response.json()\n",
    "\n",
    "    # 2. Получение всех комментариев\n",
    "    comments_response = requests.get(comments_url)\n",
    "    comments_response.raise_for_status()\n",
    "    comments = comments_response.json()\n",
    "\n",
    "    # 3. Анализ комментариев: подсчёт количества комментариев для каждого поста\n",
    "    comments_count = {}\n",
    "    for comment in comments:\n",
    "        post_id = comment[\"postId\"]\n",
    "        comments_count[post_id] = comments_count.get(post_id, 0) + 1\n",
    "\n",
    "    # 4. Поиск поста с максимальным количеством комментариев\n",
    "    max_comments_post = max(comments_count.items(), key=lambda x: x[1])\n",
    "    max_comments_post_id = max_comments_post[0]\n",
    "    max_comments_count = max_comments_post[1]\n",
    "    max_comments_post_data = next(post for post in posts if post[\"id\"] == max_comments_post_id)\n",
    "\n",
    "    # 5. Поиск поста с максимальной длиной текста\n",
    "    max_body_post = max(posts, key=lambda post: len(post[\"body\"]))\n",
    "\n",
    "    # 6. Вывод результатов\n",
    "    print(\"Пост с максимальным количеством комментариев:\")\n",
    "    print(f\"ID: {max_comments_post_id}\")\n",
    "    print(f\"Title: {max_comments_post_data['title']}\")\n",
    "    print(f\"Body: {max_comments_post_data['body']}\")\n",
    "    print(f\"Комментарии: {max_comments_count}\\n\")\n",
    "\n",
    "    print(\"Пост с максимальной длиной текста:\")\n",
    "    print(f\"ID: {max_body_post['id']}\")\n",
    "    print(f\"Title: {max_body_post['title']}\")\n",
    "    print(f\"Body (длина): {len(max_body_post['body'])}\")\n",
    "    print(max_body_post[\"body\"])\n",
    "\n",
    "except requests.exceptions.RequestException as e:\n",
    "    print(f\"Произошла ошибка при запросе: {e}\")\n"
   ]
  },
  {
   "cell_type": "code",
   "execution_count": null,
   "id": "55d1539e-6ef3-4d0c-8e7a-a1c1171b4435",
   "metadata": {},
   "outputs": [],
   "source": []
  }
 ],
 "metadata": {
  "kernelspec": {
   "display_name": "Python 3 (ipykernel)",
   "language": "python",
   "name": "python3"
  },
  "language_info": {
   "codemirror_mode": {
    "name": "ipython",
    "version": 3
   },
   "file_extension": ".py",
   "mimetype": "text/x-python",
   "name": "python",
   "nbconvert_exporter": "python",
   "pygments_lexer": "ipython3",
   "version": "3.12.7"
  }
 },
 "nbformat": 4,
 "nbformat_minor": 5
}
